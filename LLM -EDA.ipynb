{
 "cells": [
  {
   "cell_type": "code",
   "execution_count": 1,
   "id": "02e59653-57c3-41f3-aaa5-28c2b5bbaa44",
   "metadata": {},
   "outputs": [
    {
     "name": "stdout",
     "output_type": "stream",
     "text": [
      "* Running on local URL:  http://127.0.0.1:7863\n"
     ]
    },
    {
     "ename": "OSError",
     "evalue": "[WinError 225] Operation did not complete successfully because the file contains a virus or potentially unwanted software: 'C:\\\\Users\\\\SAIF SHAIK\\\\.cache\\\\huggingface\\\\gradio\\\\frpc\\\\frpc_windows_amd64_v0.3'",
     "output_type": "error",
     "traceback": [
      "\u001b[1;31m---------------------------------------------------------------------------\u001b[0m",
      "\u001b[1;31mOSError\u001b[0m                                   Traceback (most recent call last)",
      "File \u001b[1;32m~\\anaconda3\\Lib\\site-packages\\gradio\\blocks.py:2898\u001b[0m, in \u001b[0;36mBlocks.launch\u001b[1;34m(self, inline, inbrowser, share, debug, max_threads, auth, auth_message, prevent_thread_lock, show_error, server_name, server_port, height, width, favicon_path, ssl_keyfile, ssl_certfile, ssl_keyfile_password, ssl_verify, quiet, show_api, allowed_paths, blocked_paths, root_path, app_kwargs, state_session_capacity, share_server_address, share_server_protocol, share_server_tls_certificate, auth_dependency, max_file_size, enable_monitoring, strict_cors, node_server_name, node_port, ssr_mode, pwa, mcp_server, _frontend, i18n)\u001b[0m\n\u001b[0;32m   2897\u001b[0m \u001b[38;5;28;01mif\u001b[39;00m \u001b[38;5;28mself\u001b[39m\u001b[38;5;241m.\u001b[39mshare_url \u001b[38;5;129;01mis\u001b[39;00m \u001b[38;5;28;01mNone\u001b[39;00m:\n\u001b[1;32m-> 2898\u001b[0m     share_url \u001b[38;5;241m=\u001b[39m networking\u001b[38;5;241m.\u001b[39msetup_tunnel(\n\u001b[0;32m   2899\u001b[0m         local_host\u001b[38;5;241m=\u001b[39m\u001b[38;5;28mself\u001b[39m\u001b[38;5;241m.\u001b[39mserver_name,\n\u001b[0;32m   2900\u001b[0m         local_port\u001b[38;5;241m=\u001b[39m\u001b[38;5;28mself\u001b[39m\u001b[38;5;241m.\u001b[39mserver_port,\n\u001b[0;32m   2901\u001b[0m         share_token\u001b[38;5;241m=\u001b[39m\u001b[38;5;28mself\u001b[39m\u001b[38;5;241m.\u001b[39mshare_token,\n\u001b[0;32m   2902\u001b[0m         share_server_address\u001b[38;5;241m=\u001b[39m\u001b[38;5;28mself\u001b[39m\u001b[38;5;241m.\u001b[39mshare_server_address,\n\u001b[0;32m   2903\u001b[0m         share_server_tls_certificate\u001b[38;5;241m=\u001b[39m\u001b[38;5;28mself\u001b[39m\u001b[38;5;241m.\u001b[39mshare_server_tls_certificate,\n\u001b[0;32m   2904\u001b[0m     )\n\u001b[0;32m   2905\u001b[0m     parsed_url \u001b[38;5;241m=\u001b[39m urlparse(share_url)\n",
      "File \u001b[1;32m~\\anaconda3\\Lib\\site-packages\\gradio\\networking.py:59\u001b[0m, in \u001b[0;36msetup_tunnel\u001b[1;34m(local_host, local_port, share_token, share_server_address, share_server_tls_certificate)\u001b[0m\n\u001b[0;32m     51\u001b[0m tunnel \u001b[38;5;241m=\u001b[39m Tunnel(\n\u001b[0;32m     52\u001b[0m     remote_host,\n\u001b[0;32m     53\u001b[0m     remote_port,\n\u001b[1;32m   (...)\u001b[0m\n\u001b[0;32m     57\u001b[0m     share_server_tls_certificate,\n\u001b[0;32m     58\u001b[0m )\n\u001b[1;32m---> 59\u001b[0m address \u001b[38;5;241m=\u001b[39m tunnel\u001b[38;5;241m.\u001b[39mstart_tunnel()\n\u001b[0;32m     60\u001b[0m \u001b[38;5;28;01mreturn\u001b[39;00m address\n",
      "File \u001b[1;32m~\\anaconda3\\Lib\\site-packages\\gradio\\tunneling.py:114\u001b[0m, in \u001b[0;36mTunnel.start_tunnel\u001b[1;34m(self)\u001b[0m\n\u001b[0;32m    113\u001b[0m \u001b[38;5;28mself\u001b[39m\u001b[38;5;241m.\u001b[39mdownload_binary()\n\u001b[1;32m--> 114\u001b[0m \u001b[38;5;28mself\u001b[39m\u001b[38;5;241m.\u001b[39murl \u001b[38;5;241m=\u001b[39m \u001b[38;5;28mself\u001b[39m\u001b[38;5;241m.\u001b[39m_start_tunnel(BINARY_PATH)\n\u001b[0;32m    115\u001b[0m \u001b[38;5;28;01mreturn\u001b[39;00m \u001b[38;5;28mself\u001b[39m\u001b[38;5;241m.\u001b[39murl\n",
      "File \u001b[1;32m~\\anaconda3\\Lib\\site-packages\\gradio\\tunneling.py:150\u001b[0m, in \u001b[0;36mTunnel._start_tunnel\u001b[1;34m(self, binary)\u001b[0m\n\u001b[0;32m    143\u001b[0m     command\u001b[38;5;241m.\u001b[39mextend(\n\u001b[0;32m    144\u001b[0m         [\n\u001b[0;32m    145\u001b[0m             \u001b[38;5;124m\"\u001b[39m\u001b[38;5;124m--tls_enable\u001b[39m\u001b[38;5;124m\"\u001b[39m,\n\u001b[1;32m   (...)\u001b[0m\n\u001b[0;32m    148\u001b[0m         ]\n\u001b[0;32m    149\u001b[0m     )\n\u001b[1;32m--> 150\u001b[0m \u001b[38;5;28mself\u001b[39m\u001b[38;5;241m.\u001b[39mproc \u001b[38;5;241m=\u001b[39m subprocess\u001b[38;5;241m.\u001b[39mPopen(\n\u001b[0;32m    151\u001b[0m     command, stdout\u001b[38;5;241m=\u001b[39msubprocess\u001b[38;5;241m.\u001b[39mPIPE, stderr\u001b[38;5;241m=\u001b[39msubprocess\u001b[38;5;241m.\u001b[39mPIPE\n\u001b[0;32m    152\u001b[0m )\n\u001b[0;32m    153\u001b[0m atexit\u001b[38;5;241m.\u001b[39mregister(\u001b[38;5;28mself\u001b[39m\u001b[38;5;241m.\u001b[39mkill)\n",
      "File \u001b[1;32m~\\anaconda3\\Lib\\subprocess.py:1026\u001b[0m, in \u001b[0;36mPopen.__init__\u001b[1;34m(self, args, bufsize, executable, stdin, stdout, stderr, preexec_fn, close_fds, shell, cwd, env, universal_newlines, startupinfo, creationflags, restore_signals, start_new_session, pass_fds, user, group, extra_groups, encoding, errors, text, umask, pipesize, process_group)\u001b[0m\n\u001b[0;32m   1023\u001b[0m             \u001b[38;5;28mself\u001b[39m\u001b[38;5;241m.\u001b[39mstderr \u001b[38;5;241m=\u001b[39m io\u001b[38;5;241m.\u001b[39mTextIOWrapper(\u001b[38;5;28mself\u001b[39m\u001b[38;5;241m.\u001b[39mstderr,\n\u001b[0;32m   1024\u001b[0m                     encoding\u001b[38;5;241m=\u001b[39mencoding, errors\u001b[38;5;241m=\u001b[39merrors)\n\u001b[1;32m-> 1026\u001b[0m     \u001b[38;5;28mself\u001b[39m\u001b[38;5;241m.\u001b[39m_execute_child(args, executable, preexec_fn, close_fds,\n\u001b[0;32m   1027\u001b[0m                         pass_fds, cwd, env,\n\u001b[0;32m   1028\u001b[0m                         startupinfo, creationflags, shell,\n\u001b[0;32m   1029\u001b[0m                         p2cread, p2cwrite,\n\u001b[0;32m   1030\u001b[0m                         c2pread, c2pwrite,\n\u001b[0;32m   1031\u001b[0m                         errread, errwrite,\n\u001b[0;32m   1032\u001b[0m                         restore_signals,\n\u001b[0;32m   1033\u001b[0m                         gid, gids, uid, umask,\n\u001b[0;32m   1034\u001b[0m                         start_new_session, process_group)\n\u001b[0;32m   1035\u001b[0m \u001b[38;5;28;01mexcept\u001b[39;00m:\n\u001b[0;32m   1036\u001b[0m     \u001b[38;5;66;03m# Cleanup if the child failed starting.\u001b[39;00m\n",
      "File \u001b[1;32m~\\anaconda3\\Lib\\subprocess.py:1538\u001b[0m, in \u001b[0;36mPopen._execute_child\u001b[1;34m(self, args, executable, preexec_fn, close_fds, pass_fds, cwd, env, startupinfo, creationflags, shell, p2cread, p2cwrite, c2pread, c2pwrite, errread, errwrite, unused_restore_signals, unused_gid, unused_gids, unused_uid, unused_umask, unused_start_new_session, unused_process_group)\u001b[0m\n\u001b[0;32m   1537\u001b[0m \u001b[38;5;28;01mtry\u001b[39;00m:\n\u001b[1;32m-> 1538\u001b[0m     hp, ht, pid, tid \u001b[38;5;241m=\u001b[39m _winapi\u001b[38;5;241m.\u001b[39mCreateProcess(executable, args,\n\u001b[0;32m   1539\u001b[0m                              \u001b[38;5;66;03m# no special security\u001b[39;00m\n\u001b[0;32m   1540\u001b[0m                              \u001b[38;5;28;01mNone\u001b[39;00m, \u001b[38;5;28;01mNone\u001b[39;00m,\n\u001b[0;32m   1541\u001b[0m                              \u001b[38;5;28mint\u001b[39m(\u001b[38;5;129;01mnot\u001b[39;00m close_fds),\n\u001b[0;32m   1542\u001b[0m                              creationflags,\n\u001b[0;32m   1543\u001b[0m                              env,\n\u001b[0;32m   1544\u001b[0m                              cwd,\n\u001b[0;32m   1545\u001b[0m                              startupinfo)\n\u001b[0;32m   1546\u001b[0m \u001b[38;5;28;01mfinally\u001b[39;00m:\n\u001b[0;32m   1547\u001b[0m     \u001b[38;5;66;03m# Child is launched. Close the parent's copy of those pipe\u001b[39;00m\n\u001b[0;32m   1548\u001b[0m     \u001b[38;5;66;03m# handles that only the child should have open.  You need\u001b[39;00m\n\u001b[1;32m   (...)\u001b[0m\n\u001b[0;32m   1551\u001b[0m     \u001b[38;5;66;03m# pipe will not close when the child process exits and the\u001b[39;00m\n\u001b[0;32m   1552\u001b[0m     \u001b[38;5;66;03m# ReadFile will hang.\u001b[39;00m\n",
      "\u001b[1;31mOSError\u001b[0m: [WinError 225] Operation did not complete successfully because the file contains a virus or potentially unwanted software",
      "\nDuring handling of the above exception, another exception occurred:\n",
      "\u001b[1;31mOSError\u001b[0m                                   Traceback (most recent call last)",
      "Cell \u001b[1;32mIn[1], line 76\u001b[0m\n\u001b[0;32m     67\u001b[0m demo \u001b[38;5;241m=\u001b[39m gr\u001b[38;5;241m.\u001b[39mInterface(\n\u001b[0;32m     68\u001b[0m     fn\u001b[38;5;241m=\u001b[39meda_analysis,\n\u001b[0;32m     69\u001b[0m     inputs\u001b[38;5;241m=\u001b[39mgr\u001b[38;5;241m.\u001b[39mFile(\u001b[38;5;28mtype\u001b[39m\u001b[38;5;241m=\u001b[39m\u001b[38;5;124m\"\u001b[39m\u001b[38;5;124mfilepath\u001b[39m\u001b[38;5;124m\"\u001b[39m),\n\u001b[1;32m   (...)\u001b[0m\n\u001b[0;32m     72\u001b[0m     description\u001b[38;5;241m=\u001b[39m\u001b[38;5;124m\"\u001b[39m\u001b[38;5;124mUpload any dataset CSV file and get automated EDA insights with AI-powered analysis and visualizations.\u001b[39m\u001b[38;5;124m\"\u001b[39m\n\u001b[0;32m     73\u001b[0m )\n\u001b[0;32m     75\u001b[0m \u001b[38;5;66;03m# Launch the Gradio App\u001b[39;00m\n\u001b[1;32m---> 76\u001b[0m demo\u001b[38;5;241m.\u001b[39mlaunch(share\u001b[38;5;241m=\u001b[39m\u001b[38;5;28;01mTrue\u001b[39;00m)\n",
      "File \u001b[1;32m~\\anaconda3\\Lib\\site-packages\\gradio\\blocks.py:2923\u001b[0m, in \u001b[0;36mBlocks.launch\u001b[1;34m(self, inline, inbrowser, share, debug, max_threads, auth, auth_message, prevent_thread_lock, show_error, server_name, server_port, height, width, favicon_path, ssl_keyfile, ssl_certfile, ssl_keyfile_password, ssl_verify, quiet, show_api, allowed_paths, blocked_paths, root_path, app_kwargs, state_session_capacity, share_server_address, share_server_protocol, share_server_tls_certificate, auth_dependency, max_file_size, enable_monitoring, strict_cors, node_server_name, node_port, ssr_mode, pwa, mcp_server, _frontend, i18n)\u001b[0m\n\u001b[0;32m   2919\u001b[0m \u001b[38;5;28;01mif\u001b[39;00m \u001b[38;5;28misinstance\u001b[39m(e, ChecksumMismatchError):\n\u001b[0;32m   2920\u001b[0m     \u001b[38;5;28mprint\u001b[39m(\n\u001b[0;32m   2921\u001b[0m         \u001b[38;5;124mf\u001b[39m\u001b[38;5;124m\"\u001b[39m\u001b[38;5;130;01m\\n\u001b[39;00m\u001b[38;5;124mCould not create share link. Checksum mismatch for file: \u001b[39m\u001b[38;5;132;01m{\u001b[39;00mBINARY_PATH\u001b[38;5;132;01m}\u001b[39;00m\u001b[38;5;124m.\u001b[39m\u001b[38;5;124m\"\u001b[39m\n\u001b[0;32m   2922\u001b[0m     )\n\u001b[1;32m-> 2923\u001b[0m \u001b[38;5;28;01melif\u001b[39;00m Path(BINARY_PATH)\u001b[38;5;241m.\u001b[39mexists():\n\u001b[0;32m   2924\u001b[0m     \u001b[38;5;28mprint\u001b[39m(\n\u001b[0;32m   2925\u001b[0m         \u001b[38;5;124m\"\u001b[39m\u001b[38;5;130;01m\\n\u001b[39;00m\u001b[38;5;124mCould not create share link. Please check your internet connection or our status page: https://status.gradio.app.\u001b[39m\u001b[38;5;124m\"\u001b[39m\n\u001b[0;32m   2926\u001b[0m     )\n\u001b[0;32m   2927\u001b[0m \u001b[38;5;28;01melse\u001b[39;00m:\n",
      "File \u001b[1;32m~\\anaconda3\\Lib\\pathlib.py:860\u001b[0m, in \u001b[0;36mPath.exists\u001b[1;34m(self, follow_symlinks)\u001b[0m\n\u001b[0;32m    853\u001b[0m \u001b[38;5;250m\u001b[39m\u001b[38;5;124;03m\"\"\"\u001b[39;00m\n\u001b[0;32m    854\u001b[0m \u001b[38;5;124;03mWhether this path exists.\u001b[39;00m\n\u001b[0;32m    855\u001b[0m \n\u001b[0;32m    856\u001b[0m \u001b[38;5;124;03mThis method normally follows symlinks; to check whether a symlink exists,\u001b[39;00m\n\u001b[0;32m    857\u001b[0m \u001b[38;5;124;03madd the argument follow_symlinks=False.\u001b[39;00m\n\u001b[0;32m    858\u001b[0m \u001b[38;5;124;03m\"\"\"\u001b[39;00m\n\u001b[0;32m    859\u001b[0m \u001b[38;5;28;01mtry\u001b[39;00m:\n\u001b[1;32m--> 860\u001b[0m     \u001b[38;5;28mself\u001b[39m\u001b[38;5;241m.\u001b[39mstat(follow_symlinks\u001b[38;5;241m=\u001b[39mfollow_symlinks)\n\u001b[0;32m    861\u001b[0m \u001b[38;5;28;01mexcept\u001b[39;00m \u001b[38;5;167;01mOSError\u001b[39;00m \u001b[38;5;28;01mas\u001b[39;00m e:\n\u001b[0;32m    862\u001b[0m     \u001b[38;5;28;01mif\u001b[39;00m \u001b[38;5;129;01mnot\u001b[39;00m _ignore_error(e):\n",
      "File \u001b[1;32m~\\anaconda3\\Lib\\pathlib.py:840\u001b[0m, in \u001b[0;36mPath.stat\u001b[1;34m(self, follow_symlinks)\u001b[0m\n\u001b[0;32m    835\u001b[0m \u001b[38;5;28;01mdef\u001b[39;00m \u001b[38;5;21mstat\u001b[39m(\u001b[38;5;28mself\u001b[39m, \u001b[38;5;241m*\u001b[39m, follow_symlinks\u001b[38;5;241m=\u001b[39m\u001b[38;5;28;01mTrue\u001b[39;00m):\n\u001b[0;32m    836\u001b[0m \u001b[38;5;250m    \u001b[39m\u001b[38;5;124;03m\"\"\"\u001b[39;00m\n\u001b[0;32m    837\u001b[0m \u001b[38;5;124;03m    Return the result of the stat() system call on this path, like\u001b[39;00m\n\u001b[0;32m    838\u001b[0m \u001b[38;5;124;03m    os.stat() does.\u001b[39;00m\n\u001b[0;32m    839\u001b[0m \u001b[38;5;124;03m    \"\"\"\u001b[39;00m\n\u001b[1;32m--> 840\u001b[0m     \u001b[38;5;28;01mreturn\u001b[39;00m os\u001b[38;5;241m.\u001b[39mstat(\u001b[38;5;28mself\u001b[39m, follow_symlinks\u001b[38;5;241m=\u001b[39mfollow_symlinks)\n",
      "\u001b[1;31mOSError\u001b[0m: [WinError 225] Operation did not complete successfully because the file contains a virus or potentially unwanted software: 'C:\\\\Users\\\\SAIF SHAIK\\\\.cache\\\\huggingface\\\\gradio\\\\frpc\\\\frpc_windows_amd64_v0.3'"
     ]
    }
   ],
   "source": [
    "import gradio as gr\n",
    "import pandas as pd \n",
    "import seaborn as sns\n",
    "import matplotlib.pyplot as plt\n",
    "import ollama   \n",
    "\n",
    "# Function to Perform EDA and Generate Visualizations\n",
    "def eda_analysis(file_path):\n",
    "    df = pd.read_csv(file_path)\n",
    "    \n",
    "    # Fill missing values with median for numeric columns\n",
    "    for col in df.select_dtypes(include=['number']).columns:\n",
    "        df[col].fillna(df[col].median(), inplace=True)\n",
    "    \n",
    "    # Fill missing values with mode for categorical columns\n",
    "    for col in df.select_dtypes(include=['object']).columns:\n",
    "        df[col].fillna(df[col].mode()[0], inplace=True)\n",
    "    \n",
    "    # Data Summary\n",
    "    summary = df.describe(include='all').to_string()\n",
    "    \n",
    "    # Missing Values\n",
    "    missing_values = df.isnull().sum().to_string()\n",
    "\n",
    "    # Generate AI Insights\n",
    "    insights = generate_ai_insights(summary)\n",
    "    \n",
    "    # Generate Data Visualizations\n",
    "    plot_paths = generate_visualizations(df)\n",
    "    \n",
    "    return f\"\\n Data Loaded Successfully!\\n\\n Summary:\\n{summary}\\n\\n Missing Values:\\n{missing_values}\\n\\n AI Insights:\\n{insights}\", plot_paths\n",
    "\n",
    "# AI-Powered Insights using Mistral-7B (Ollama)\n",
    "def generate_ai_insights(df_summary):\n",
    "    prompt = f\"Analyze the dataset summary and provide insights:\\n\\n{df_summary}\"\n",
    "    response = ollama.chat(model=\"mistral\", messages=[{\"role\": \"user\", \"content\": prompt}])\n",
    "    return response['message']['content']\n",
    "\n",
    "# Function to Generate Data Visualizations\n",
    "def generate_visualizations(df):\n",
    "    plot_paths = []\n",
    "    \n",
    "    # Histograms for Numeric Columns\n",
    "    for col in df.select_dtypes(include=['number']).columns:\n",
    "        plt.figure(figsize=(6,4))\n",
    "        sns.histplot(df[col], bins=30, kde=True, color=\"blue\")\n",
    "        plt.title(f\"Distribution of {col}\")\n",
    "        path = f\"{col}_distribution.png\"\n",
    "        plt.savefig(path)\n",
    "        plot_paths.append(path)\n",
    "        plt.close()\n",
    "    \n",
    "    # Correlation Heatmap (only numeric columns)\n",
    "    numeric_df = df.select_dtypes(include=['number'])\n",
    "    if not numeric_df.empty:\n",
    "        plt.figure(figsize=(8,5))\n",
    "        sns.heatmap(numeric_df.corr(), annot=True, cmap='coolwarm', fmt=\".2f\", linewidths=0.5)\n",
    "        plt.title(\"Correlation Heatmap\")\n",
    "        path = \"correlation_heatmap.png\"\n",
    "        plt.savefig(path)\n",
    "        plot_paths.append(path)\n",
    "        plt.close()\n",
    "\n",
    "    return plot_paths\n",
    "\n",
    "# Gradio Interface\n",
    "demo = gr.Interface(\n",
    "    fn=eda_analysis,\n",
    "    inputs=gr.File(type=\"filepath\"),\n",
    "    outputs=[gr.Textbox(label=\"EDA Report\"), gr.Gallery(label=\"Data Visualizations\")],\n",
    "    title=\"📊 LLM-Powered Exploratory Data Analysis (EDA)\",\n",
    "    description=\"Upload any dataset CSV file and get automated EDA insights with AI-powered analysis and visualizations.\"\n",
    ")\n",
    "\n",
    "# Launch the Gradio App\n",
    "demo.launch(share=True)"
   ]
  },
  {
   "cell_type": "code",
   "execution_count": null,
   "id": "5a5bdf39-7b00-4d18-8677-c6f324e6a5ae",
   "metadata": {},
   "outputs": [],
   "source": []
  }
 ],
 "metadata": {
  "kernelspec": {
   "display_name": "Python 3 (ipykernel)",
   "language": "python",
   "name": "python3"
  },
  "language_info": {
   "codemirror_mode": {
    "name": "ipython",
    "version": 3
   },
   "file_extension": ".py",
   "mimetype": "text/x-python",
   "name": "python",
   "nbconvert_exporter": "python",
   "pygments_lexer": "ipython3",
   "version": "3.12.7"
  }
 },
 "nbformat": 4,
 "nbformat_minor": 5
}
